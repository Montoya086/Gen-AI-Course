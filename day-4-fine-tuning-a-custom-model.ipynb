{
 "cells": [
  {
   "cell_type": "markdown",
   "metadata": {},
   "source": [
    "Andrés Estuardo Montoya Wilhelm - 21552"
   ]
  },
  {
   "cell_type": "markdown",
   "metadata": {
    "id": "b6e13eef3f5d"
   },
   "source": [
    "##### Copyright 2024 Google LLC."
   ]
  },
  {
   "cell_type": "code",
   "execution_count": 1,
   "metadata": {
    "cellView": "form",
    "execution": {
     "iopub.execute_input": "2025-02-15T23:57:29.557866Z",
     "iopub.status.busy": "2025-02-15T23:57:29.557601Z",
     "iopub.status.idle": "2025-02-15T23:57:29.578879Z",
     "shell.execute_reply": "2025-02-15T23:57:29.577784Z",
     "shell.execute_reply.started": "2025-02-15T23:57:29.557820Z"
    },
    "id": "d6597b11df14",
    "jupyter": {
     "source_hidden": true
    },
    "trusted": true
   },
   "outputs": [],
   "source": [
    "# @title Licensed under the Apache License, Version 2.0 (the \"License\");\n",
    "# you may not use this file except in compliance with the License.\n",
    "# You may obtain a copy of the License at\n",
    "#\n",
    "# https://www.apache.org/licenses/LICENSE-2.0\n",
    "#\n",
    "# Unless required by applicable law or agreed to in writing, software\n",
    "# distributed under the License is distributed on an \"AS IS\" BASIS,\n",
    "# WITHOUT WARRANTIES OR CONDITIONS OF ANY KIND, either express or implied.\n",
    "# See the License for the specific language governing permissions and\n",
    "# limitations under the License."
   ]
  },
  {
   "cell_type": "markdown",
   "metadata": {
    "id": "4KDIFPAL2EnL"
   },
   "source": [
    "# Day 4 - Fine tuning a custom model\n",
    "\n",
    "Welcome back to the Kaggle 5-day Generative AI course!\n",
    "\n",
    "In this notebook you will use the Gemini API to fine-tune a custom, task-specific model. Fine-tuning can be used for a variety of tasks from classic NLP problems like entity extraction or summarisation, to creative tasks like stylised generation. You will fine-tune a model to classify the category a piece of text (a newsgroup post) into the category it belongs to (the newsgroup name).\n",
    "\n",
    "This codelab walks you tuning a model with the API. [AI Studio](https://aistudio.google.com/app/tune) also supports creating new tuned models directly in the web UI, allowing you to quickly create and monitor models using data from Google Sheets, Drive or your own files."
   ]
  },
  {
   "cell_type": "code",
   "execution_count": 2,
   "metadata": {
    "execution": {
     "iopub.execute_input": "2025-02-15T23:57:29.581531Z",
     "iopub.status.busy": "2025-02-15T23:57:29.581125Z",
     "iopub.status.idle": "2025-02-15T23:57:55.659431Z",
     "shell.execute_reply": "2025-02-15T23:57:55.658169Z",
     "shell.execute_reply.started": "2025-02-15T23:57:29.581479Z"
    },
    "id": "9wafTyEH1_xF",
    "trusted": true
   },
   "outputs": [
    {
     "name": "stdout",
     "output_type": "stream",
     "text": [
      "Note: you may need to restart the kernel to use updated packages.\n"
     ]
    }
   ],
   "source": [
    "%pip install -U -q 'google-generativeai>=0.8.3'"
   ]
  },
  {
   "cell_type": "markdown",
   "metadata": {},
   "source": [
    "Note that you do not have to restart the kernel."
   ]
  },
  {
   "cell_type": "code",
   "execution_count": 3,
   "metadata": {
    "execution": {
     "iopub.execute_input": "2025-02-15T23:57:55.661251Z",
     "iopub.status.busy": "2025-02-15T23:57:55.660911Z",
     "iopub.status.idle": "2025-02-15T23:57:56.654814Z",
     "shell.execute_reply": "2025-02-15T23:57:56.653853Z",
     "shell.execute_reply.started": "2025-02-15T23:57:55.661216Z"
    },
    "id": "T0CBG9xL2PvT",
    "trusted": true
   },
   "outputs": [],
   "source": [
    "import google.generativeai as genai"
   ]
  },
  {
   "cell_type": "markdown",
   "metadata": {
    "id": "P4bYX2T72ScK"
   },
   "source": [
    "### Set up your API key\n",
    "\n",
    "To run the following cell, your API key must be stored it in a [Kaggle secret](https://www.kaggle.com/discussions/product-feedback/114053) named `GOOGLE_API_KEY`.\n",
    "\n",
    "If you don't already have an API key, you can grab one from [AI Studio](https://aistudio.google.com/app/apikey). You can find [detailed instructions in the docs](https://ai.google.dev/gemini-api/docs/api-key).\n",
    "\n",
    "To make the key available through Kaggle secrets, choose `Secrets` from the `Add-ons` menu and follow the instructions to add your key or enable it for this notebook."
   ]
  },
  {
   "cell_type": "code",
   "execution_count": 4,
   "metadata": {
    "execution": {
     "iopub.execute_input": "2025-02-15T23:57:56.656665Z",
     "iopub.status.busy": "2025-02-15T23:57:56.656015Z",
     "iopub.status.idle": "2025-02-15T23:57:56.906557Z",
     "shell.execute_reply": "2025-02-15T23:57:56.905677Z",
     "shell.execute_reply.started": "2025-02-15T23:57:56.656632Z"
    },
    "id": "VuJPY3GK2SLZ",
    "trusted": true
   },
   "outputs": [],
   "source": [
    "from kaggle_secrets import UserSecretsClient\n",
    "\n",
    "GOOGLE_API_KEY = UserSecretsClient().get_secret(\"GOOGLE_API_KEY\")\n",
    "genai.configure(api_key=GOOGLE_API_KEY)"
   ]
  },
  {
   "cell_type": "markdown",
   "metadata": {
    "id": "25b2127c2052"
   },
   "source": [
    "If you received an error response along the lines of `No user secrets exist for kernel id ...`, then you need to add your API key via `Add-ons`, `Secrets` **and** enable it.\n",
    "\n",
    "![Screenshot of the checkbox to enable GOOGLE_API_KEY secret](https://storage.googleapis.com/kaggle-media/Images/5gdai_sc_3.png)"
   ]
  },
  {
   "cell_type": "markdown",
   "metadata": {
    "id": "CqVA5QFO6n4z"
   },
   "source": [
    "### Explore available models\n",
    "\n",
    "You will be using the [`TunedModel.create`](https://ai.google.dev/api/tuning#method:-tunedmodels.create) API method to start the fine-tuning job and create your custom model. Find a model that supports it through the [`models.list`](https://ai.google.dev/api/models#method:-models.list) endpoint. You can also find more information about tuning models in [the model tuning docs](https://ai.google.dev/gemini-api/docs/model-tuning/tutorial?lang=python)."
   ]
  },
  {
   "cell_type": "code",
   "execution_count": 5,
   "metadata": {
    "execution": {
     "iopub.execute_input": "2025-02-15T23:57:56.908307Z",
     "iopub.status.busy": "2025-02-15T23:57:56.907909Z",
     "iopub.status.idle": "2025-02-15T23:57:57.165780Z",
     "shell.execute_reply": "2025-02-15T23:57:57.164644Z",
     "shell.execute_reply.started": "2025-02-15T23:57:56.908263Z"
    },
    "id": "coEacWAB6o0G",
    "trusted": true
   },
   "outputs": [
    {
     "name": "stdout",
     "output_type": "stream",
     "text": [
      "models/gemini-1.0-pro-001\n",
      "models/gemini-1.5-flash-001-tuning\n"
     ]
    }
   ],
   "source": [
    "for model in genai.list_models():\n",
    "    if \"createTunedModel\" in model.supported_generation_methods:\n",
    "        print(model.name)"
   ]
  },
  {
   "cell_type": "markdown",
   "metadata": {
    "id": "peFm0w_0c1CO"
   },
   "source": [
    "## Download the dataset\n",
    "\n",
    "In this activity, you will use the same newsgroups dataset that you used to train a classifier in Keras. In this example you will use a fine-tuned Gemini model to achieve the same goal.\n",
    "\n",
    "The [20 Newsgroups Text Dataset](https://scikit-learn.org/0.19/datasets/twenty_newsgroups.html) contains 18,000 newsgroups posts on 20 topics divided into training and test sets."
   ]
  },
  {
   "cell_type": "code",
   "execution_count": 6,
   "metadata": {
    "execution": {
     "iopub.execute_input": "2025-02-15T23:57:57.168108Z",
     "iopub.status.busy": "2025-02-15T23:57:57.167671Z",
     "iopub.status.idle": "2025-02-15T23:58:09.272557Z",
     "shell.execute_reply": "2025-02-15T23:58:09.271529Z",
     "shell.execute_reply.started": "2025-02-15T23:57:57.168064Z"
    },
    "id": "bX_kpgnQ9b-Z",
    "trusted": true
   },
   "outputs": [
    {
     "data": {
      "text/plain": [
       "['alt.atheism',\n",
       " 'comp.graphics',\n",
       " 'comp.os.ms-windows.misc',\n",
       " 'comp.sys.ibm.pc.hardware',\n",
       " 'comp.sys.mac.hardware',\n",
       " 'comp.windows.x',\n",
       " 'misc.forsale',\n",
       " 'rec.autos',\n",
       " 'rec.motorcycles',\n",
       " 'rec.sport.baseball',\n",
       " 'rec.sport.hockey',\n",
       " 'sci.crypt',\n",
       " 'sci.electronics',\n",
       " 'sci.med',\n",
       " 'sci.space',\n",
       " 'soc.religion.christian',\n",
       " 'talk.politics.guns',\n",
       " 'talk.politics.mideast',\n",
       " 'talk.politics.misc',\n",
       " 'talk.religion.misc']"
      ]
     },
     "execution_count": 6,
     "metadata": {},
     "output_type": "execute_result"
    }
   ],
   "source": [
    "from sklearn.datasets import fetch_20newsgroups\n",
    "\n",
    "newsgroups_train = fetch_20newsgroups(subset=\"train\")\n",
    "newsgroups_test = fetch_20newsgroups(subset=\"test\")\n",
    "\n",
    "# View list of class names for dataset\n",
    "newsgroups_train.target_names"
   ]
  },
  {
   "cell_type": "markdown",
   "metadata": {
    "id": "ipafe6ptZFjt"
   },
   "source": [
    "Here's what a single row looks like."
   ]
  },
  {
   "cell_type": "code",
   "execution_count": 7,
   "metadata": {
    "execution": {
     "iopub.execute_input": "2025-02-15T23:58:09.275936Z",
     "iopub.status.busy": "2025-02-15T23:58:09.275604Z",
     "iopub.status.idle": "2025-02-15T23:58:09.281558Z",
     "shell.execute_reply": "2025-02-15T23:58:09.280305Z",
     "shell.execute_reply.started": "2025-02-15T23:58:09.275904Z"
    },
    "id": "EtEXcdT39hCB",
    "trusted": true
   },
   "outputs": [
    {
     "name": "stdout",
     "output_type": "stream",
     "text": [
      "From: lerxst@wam.umd.edu (where's my thing)\n",
      "Subject: WHAT car is this!?\n",
      "Nntp-Posting-Host: rac3.wam.umd.edu\n",
      "Organization: University of Maryland, College Park\n",
      "Lines: 15\n",
      "\n",
      " I was wondering if anyone out there could enlighten me on this car I saw\n",
      "the other day. It was a 2-door sports car, looked to be from the late 60s/\n",
      "early 70s. It was called a Bricklin. The doors were really small. In addition,\n",
      "the front bumper was separate from the rest of the body. This is \n",
      "all I know. If anyone can tellme a model name, engine specs, years\n",
      "of production, where this car is made, history, or whatever info you\n",
      "have on this funky looking car, please e-mail.\n",
      "\n",
      "Thanks,\n",
      "- IL\n",
      "   ---- brought to you by your neighborhood Lerxst ----\n",
      "\n",
      "\n",
      "\n",
      "\n",
      "\n"
     ]
    }
   ],
   "source": [
    "print(newsgroups_train.data[0])"
   ]
  },
  {
   "cell_type": "markdown",
   "metadata": {
    "id": "03lDs1O4ZQ0-"
   },
   "source": [
    "## Prepare the dataset\n",
    "\n",
    "You'll use the same pre-processing code you used for the custom model on day 2. This pre-processing removes personal information, which can be used to \"shortcut\" to known users of a forum, and formats the text to appear a bit more like regular text and less like a newsgroup post (e.g. by removing the mail headers). This normalisation allows the model to generalise to regular text and not over-depend on specific fields. If your input data is always going to be newsgroup posts, it may be helpful to leave this structure in place if they provide genuine signals."
   ]
  },
  {
   "cell_type": "code",
   "execution_count": 8,
   "metadata": {
    "execution": {
     "iopub.execute_input": "2025-02-15T23:58:09.283797Z",
     "iopub.status.busy": "2025-02-15T23:58:09.283316Z",
     "iopub.status.idle": "2025-02-15T23:58:09.717177Z",
     "shell.execute_reply": "2025-02-15T23:58:09.716318Z",
     "shell.execute_reply.started": "2025-02-15T23:58:09.283745Z"
    },
    "id": "IoNYTxpoZgB0",
    "trusted": true
   },
   "outputs": [],
   "source": [
    "import email\n",
    "import re\n",
    "\n",
    "import pandas as pd\n",
    "\n",
    "\n",
    "def preprocess_newsgroup_row(data):\n",
    "    # Extract only the subject and body\n",
    "    msg = email.message_from_string(data)\n",
    "    text = f\"{msg['Subject']}\\n\\n{msg.get_payload()}\"\n",
    "    # Strip any remaining email addresses\n",
    "    text = re.sub(r\"[\\w\\.-]+@[\\w\\.-]+\", \"\", text)\n",
    "    # Truncate the text to fit within the input limits\n",
    "    text = text[:40000]\n",
    "\n",
    "    return text\n",
    "\n",
    "\n",
    "def preprocess_newsgroup_data(newsgroup_dataset):\n",
    "    # Put data points into dataframe\n",
    "    df = pd.DataFrame(\n",
    "        {\"Text\": newsgroup_dataset.data, \"Label\": newsgroup_dataset.target}\n",
    "    )\n",
    "    # Clean up the text\n",
    "    df[\"Text\"] = df[\"Text\"].apply(preprocess_newsgroup_row)\n",
    "    # Match label to target name index\n",
    "    df[\"Class Name\"] = df[\"Label\"].map(lambda l: newsgroup_dataset.target_names[l])\n",
    "\n",
    "    return df"
   ]
  },
  {
   "cell_type": "code",
   "execution_count": 9,
   "metadata": {
    "execution": {
     "iopub.execute_input": "2025-02-15T23:58:09.718910Z",
     "iopub.status.busy": "2025-02-15T23:58:09.718382Z",
     "iopub.status.idle": "2025-02-15T23:58:13.405842Z",
     "shell.execute_reply": "2025-02-15T23:58:13.404721Z",
     "shell.execute_reply.started": "2025-02-15T23:58:09.718859Z"
    },
    "id": "kvOsUSRWaW4g",
    "trusted": true
   },
   "outputs": [
    {
     "data": {
      "text/html": [
       "<div>\n",
       "<style scoped>\n",
       "    .dataframe tbody tr th:only-of-type {\n",
       "        vertical-align: middle;\n",
       "    }\n",
       "\n",
       "    .dataframe tbody tr th {\n",
       "        vertical-align: top;\n",
       "    }\n",
       "\n",
       "    .dataframe thead th {\n",
       "        text-align: right;\n",
       "    }\n",
       "</style>\n",
       "<table border=\"1\" class=\"dataframe\">\n",
       "  <thead>\n",
       "    <tr style=\"text-align: right;\">\n",
       "      <th></th>\n",
       "      <th>Text</th>\n",
       "      <th>Label</th>\n",
       "      <th>Class Name</th>\n",
       "    </tr>\n",
       "  </thead>\n",
       "  <tbody>\n",
       "    <tr>\n",
       "      <th>0</th>\n",
       "      <td>WHAT car is this!?\\n\\n I was wondering if anyo...</td>\n",
       "      <td>7</td>\n",
       "      <td>rec.autos</td>\n",
       "    </tr>\n",
       "    <tr>\n",
       "      <th>1</th>\n",
       "      <td>SI Clock Poll - Final Call\\n\\nA fair number of...</td>\n",
       "      <td>4</td>\n",
       "      <td>comp.sys.mac.hardware</td>\n",
       "    </tr>\n",
       "    <tr>\n",
       "      <th>2</th>\n",
       "      <td>PB questions...\\n\\nwell folks, my mac plus fin...</td>\n",
       "      <td>4</td>\n",
       "      <td>comp.sys.mac.hardware</td>\n",
       "    </tr>\n",
       "    <tr>\n",
       "      <th>3</th>\n",
       "      <td>Re: Weitek P9000 ?\\n\\nRobert J.C. Kyanko () wr...</td>\n",
       "      <td>1</td>\n",
       "      <td>comp.graphics</td>\n",
       "    </tr>\n",
       "    <tr>\n",
       "      <th>4</th>\n",
       "      <td>Re: Shuttle Launch Question\\n\\nFrom article &lt;&gt;...</td>\n",
       "      <td>14</td>\n",
       "      <td>sci.space</td>\n",
       "    </tr>\n",
       "  </tbody>\n",
       "</table>\n",
       "</div>"
      ],
      "text/plain": [
       "                                                Text  Label  \\\n",
       "0  WHAT car is this!?\\n\\n I was wondering if anyo...      7   \n",
       "1  SI Clock Poll - Final Call\\n\\nA fair number of...      4   \n",
       "2  PB questions...\\n\\nwell folks, my mac plus fin...      4   \n",
       "3  Re: Weitek P9000 ?\\n\\nRobert J.C. Kyanko () wr...      1   \n",
       "4  Re: Shuttle Launch Question\\n\\nFrom article <>...     14   \n",
       "\n",
       "              Class Name  \n",
       "0              rec.autos  \n",
       "1  comp.sys.mac.hardware  \n",
       "2  comp.sys.mac.hardware  \n",
       "3          comp.graphics  \n",
       "4              sci.space  "
      ]
     },
     "execution_count": 9,
     "metadata": {},
     "output_type": "execute_result"
    }
   ],
   "source": [
    "# Apply preprocessing to training and test datasets\n",
    "df_train = preprocess_newsgroup_data(newsgroups_train)\n",
    "df_test = preprocess_newsgroup_data(newsgroups_test)\n",
    "\n",
    "df_train.head()"
   ]
  },
  {
   "cell_type": "markdown",
   "metadata": {
    "id": "XSKcj5WtadaR"
   },
   "source": [
    "Now sample the data. You will keep 50 rows for each category for training. Note that this is even fewer than the Keras example, as this technique (parameter-efficient fine-tuning, or PEFT) updates a relatively small number of parameters and does not require training a new model or updating the large model."
   ]
  },
  {
   "cell_type": "code",
   "execution_count": 10,
   "metadata": {
    "execution": {
     "iopub.execute_input": "2025-02-15T23:58:13.407276Z",
     "iopub.status.busy": "2025-02-15T23:58:13.406940Z",
     "iopub.status.idle": "2025-02-15T23:58:13.450899Z",
     "shell.execute_reply": "2025-02-15T23:58:13.449844Z",
     "shell.execute_reply.started": "2025-02-15T23:58:13.407227Z"
    },
    "id": "0t9Xu6X5akkt",
    "trusted": true
   },
   "outputs": [],
   "source": [
    "def sample_data(df, num_samples, classes_to_keep):\n",
    "    # Sample rows, selecting num_samples of each Label.\n",
    "    df = (\n",
    "        df.groupby(\"Label\")[df.columns]\n",
    "        .apply(lambda x: x.sample(num_samples))\n",
    "        .reset_index(drop=True)\n",
    "    )\n",
    "\n",
    "    df = df[df[\"Class Name\"].str.contains(classes_to_keep)]\n",
    "    df[\"Class Name\"] = df[\"Class Name\"].astype(\"category\")\n",
    "\n",
    "    return df\n",
    "\n",
    "\n",
    "TRAIN_NUM_SAMPLES = 50\n",
    "TEST_NUM_SAMPLES = 10\n",
    "# Keep rec.* and sci.*\n",
    "CLASSES_TO_KEEP = \"^rec|^sci\"\n",
    "\n",
    "df_train = sample_data(df_train, TRAIN_NUM_SAMPLES, CLASSES_TO_KEEP)\n",
    "df_test = sample_data(df_test, TEST_NUM_SAMPLES, CLASSES_TO_KEEP)"
   ]
  },
  {
   "cell_type": "markdown",
   "metadata": {},
   "source": [
    "## Evaluate baseline performance\n",
    "\n",
    "Before you start tuning a model, it's good practice to perform an evaluation on the available models to ensure you can measure how much the tuning helps.\n",
    "\n",
    "First identify a single sample row to use for visual inspection."
   ]
  },
  {
   "cell_type": "code",
   "execution_count": 11,
   "metadata": {
    "execution": {
     "iopub.execute_input": "2025-02-15T23:58:13.452733Z",
     "iopub.status.busy": "2025-02-15T23:58:13.452311Z",
     "iopub.status.idle": "2025-02-15T23:58:13.472362Z",
     "shell.execute_reply": "2025-02-15T23:58:13.471295Z",
     "shell.execute_reply.started": "2025-02-15T23:58:13.452678Z"
    },
    "trusted": true
   },
   "outputs": [
    {
     "name": "stdout",
     "output_type": "stream",
     "text": [
      "Need info on 88-89 Bonneville\n",
      "\n",
      "\n",
      " I am a little confused on all of the models of the 88-89 bonnevilles.\n",
      "I have heard of the LE SE LSE SSE SSEI. Could someone tell me the\n",
      "differences are far as features or performance. I am also curious to\n",
      "know what the book value is for prefereably the 89 model. And how much\n",
      "less than book value can you usually get them for. In other words how\n",
      "much are they in demand this time of year. I have heard that the mid-spring\n",
      "early summer is the best time to buy.\n",
      "\n",
      "\t\t\tNeil Gandler\n",
      "\n",
      "---\n",
      "Label: rec.autos\n"
     ]
    }
   ],
   "source": [
    "sample_idx = 0\n",
    "sample_row = preprocess_newsgroup_row(newsgroups_test.data[sample_idx])\n",
    "sample_label = newsgroups_test.target_names[newsgroups_test.target[sample_idx]]\n",
    "\n",
    "print(sample_row)\n",
    "print('---')\n",
    "print('Label:', sample_label)"
   ]
  },
  {
   "cell_type": "markdown",
   "metadata": {},
   "source": [
    "Passing the text directly in as a prompt does not yield the desired results. The model will attempt to respond to the message."
   ]
  },
  {
   "cell_type": "code",
   "execution_count": 12,
   "metadata": {
    "execution": {
     "iopub.execute_input": "2025-02-15T23:58:13.473891Z",
     "iopub.status.busy": "2025-02-15T23:58:13.473583Z",
     "iopub.status.idle": "2025-02-15T23:58:18.003642Z",
     "shell.execute_reply": "2025-02-15T23:58:18.002424Z",
     "shell.execute_reply.started": "2025-02-15T23:58:13.473849Z"
    },
    "trusted": true
   },
   "outputs": [
    {
     "name": "stdout",
     "output_type": "stream",
     "text": [
      "You are correct, there were a lot of variations on the Bonneville in 1988 and 1989. Let's break them down and then talk about value.\n",
      "\n",
      "**1988 and 1989 Bonneville Model Variations:**\n",
      "\n",
      "* **Base Bonneville:** This was the standard model, with a 3.8L V6 engine and basic features. \n",
      "* **LE (Luxury Edition):** Added luxury features like leather seats, power accessories, and upgraded interior trim. \n",
      "* **SE (Sport Edition):** Focused on performance with a 3.8L V6, a slightly stiffer suspension, and some cosmetic sport touches like special wheels and badging. \n",
      "* **LSE (Luxury Sport Edition):** Combined the luxury of the LE with the sporty touches of the SE. \n",
      "* **SSE (Special Sport Edition):** Introduced in 1989, the SSE got a more powerful 3.8L V6 engine with a 4-barrel carburetor (instead of the standard fuel injection) and a tuned exhaust. \n",
      "* **SSEi (Special Sport Edition Injection):** Also introduced in 1989, the SSEi replaced the carburetor with electronic fuel injection, delivering even better performance and fuel efficiency.\n",
      "\n",
      "**Here's a breakdown of the key differences:**\n",
      "\n",
      "| Model      | Engine              | Transmission  | Features                                         |\n",
      "|------------|----------------------|---------------|---------------------------------------------------|\n",
      "| Base       | 3.8L V6 (Fuel Injection) | Automatic     | Basic equipment                                  |\n",
      "| LE         | 3.8L V6 (Fuel Injection) | Automatic     | Luxury features (leather, power options)         |\n",
      "| SE         | 3.8L V6 (Fuel Injection) | Automatic     | Sport-tuned suspension, sport wheels and badging |\n",
      "| LSE        | 3.8L V6 (Fuel Injection) | Automatic     | Luxury and Sport features combined              |\n",
      "| SSE        | 3.8L V6 (4-barrel Carb)  | Automatic     | Higher horsepower, tuned exhaust                  |\n",
      "| SSEi       | 3.8L V6 (Fuel Injection) | Automatic     | Highest performance version                       |\n",
      "\n",
      "**Value and Demand:**\n",
      "\n",
      "* **Book Value:** You can find book values for various trim levels on websites like Kelley Blue Book (KBB) or Edmunds. The value will depend on the specific year, mileage, condition, and location of the car.\n",
      "* **Negotiating Price:**  As with any used car, you can often get a price lower than book value, especially if the vehicle is in average condition. You might be able to negotiate a price 10-20% lower than book value depending on the seller's urgency and the overall market conditions. \n",
      "* **Spring/Summer Demand:**  While it's true that spring and early summer are often considered good times to buy cars, this may not apply to older vehicles like the 1988-89 Bonnevilles. Demand for these cars is relatively low, so you might find opportunities throughout the year.\n",
      "\n",
      "**Important Notes:**\n",
      "\n",
      "* **Condition:**  A well-maintained 1988-89 Bonneville can be a reliable and affordable classic car. However, consider that these vehicles are getting older, and potential mechanical issues can arise.  Thorough inspection is key.\n",
      "* **Parts Availability:**  While parts are still generally available for these Bonnevilles, some parts, especially more specialized items, can be harder to find and potentially more expensive.\n",
      "\n",
      "**In conclusion:** While there were many variations of the 1988-89 Bonneville, the SSEi model stands out as the top performer. You can find out its current market value using online resources like KBB. Remember to factor in condition, location, and negotiating skills to arrive at a fair price. \n",
      "\n"
     ]
    }
   ],
   "source": [
    "baseline_model = genai.GenerativeModel(\"gemini-1.5-flash-001\")\n",
    "response = baseline_model.generate_content(sample_row)\n",
    "print(response.text)"
   ]
  },
  {
   "cell_type": "markdown",
   "metadata": {},
   "source": [
    "You can use the prompt engineering techniques you have learned this week to induce the model to perform the desired task. Try some of your own ideas and see what is effective, or check out the following cells for different approaches. Note that they have different levels of effectiveness!"
   ]
  },
  {
   "cell_type": "code",
   "execution_count": 13,
   "metadata": {
    "execution": {
     "iopub.execute_input": "2025-02-15T23:58:18.005119Z",
     "iopub.status.busy": "2025-02-15T23:58:18.004817Z",
     "iopub.status.idle": "2025-02-15T23:58:19.491201Z",
     "shell.execute_reply": "2025-02-15T23:58:19.490165Z",
     "shell.execute_reply.started": "2025-02-15T23:58:18.005091Z"
    },
    "trusted": true
   },
   "outputs": [
    {
     "name": "stdout",
     "output_type": "stream",
     "text": [
      "Based on the content of the message, it's highly likely that it originated from a **Buick-related newsgroup**. \n",
      "\n",
      "Here's why:\n",
      "\n",
      "* **Specific Model:** The message focuses on the 1988-1989 Buick Bonneville, a specific car model.\n",
      "* **Trim Levels:** It mentions different trim levels (LE, SE, LSE, SSE, SSEi), which are common for car models, particularly within a single brand.\n",
      "* **Book Value and Demand:** The message discusses book value and market demand, common topics in car-related discussions.\n",
      "\n",
      "Possible newsgroups include:\n",
      "\n",
      "* **alt.autos.buick:** A general newsgroup dedicated to Buick vehicles.\n",
      "* **rec.autos.buick:**  Another newsgroup dedicated to Buick vehicles.\n",
      "* **rec.autos.marketplace.buick:** A newsgroup focused on buying and selling Buicks.\n",
      "\n",
      "While it's not possible to definitively pinpoint the exact newsgroup, the content strongly suggests it's from a Buick-related community. \n",
      "\n"
     ]
    }
   ],
   "source": [
    "# Ask the model directly in a zero-shot prompt.\n",
    "\n",
    "prompt = \"From what newsgroup does the following message originate?\"\n",
    "baseline_response = baseline_model.generate_content([prompt, sample_row])\n",
    "print(baseline_response.text)"
   ]
  },
  {
   "cell_type": "markdown",
   "metadata": {},
   "source": [
    "That technique produces quite a verbose response. You could try and pick out the relevant text, or refine the prompt even further."
   ]
  },
  {
   "cell_type": "code",
   "execution_count": 14,
   "metadata": {
    "execution": {
     "iopub.execute_input": "2025-02-15T23:58:19.493073Z",
     "iopub.status.busy": "2025-02-15T23:58:19.492671Z",
     "iopub.status.idle": "2025-02-15T23:58:19.889354Z",
     "shell.execute_reply": "2025-02-15T23:58:19.888259Z",
     "shell.execute_reply.started": "2025-02-15T23:58:19.493030Z"
    },
    "trusted": true
   },
   "outputs": [
    {
     "name": "stdout",
     "output_type": "stream",
     "text": [
      "rec.autos.misc\n",
      "\n",
      "Incorrect.\n"
     ]
    }
   ],
   "source": [
    "from google.api_core import retry\n",
    "\n",
    "# You can use a system instruction to do more direct prompting, and get a\n",
    "# more succinct answer.\n",
    "\n",
    "system_instruct = \"\"\"\n",
    "You are a classification service. You will be passed input that represents\n",
    "a newsgroup post and you must respond with the newsgroup from which the post\n",
    "originates.\n",
    "\"\"\"\n",
    "\n",
    "instructed_model = genai.GenerativeModel(\"gemini-1.5-flash-001\",\n",
    "                                         system_instruction=system_instruct)\n",
    "\n",
    "retry_policy = {\"retry\": retry.Retry(predicate=retry.if_transient_error)}\n",
    "\n",
    "# If you want to evaluate your own technique, replace this function with your\n",
    "# model, prompt and other code and return the predicted answer.\n",
    "def predict_label(post: str) -> str:\n",
    "    response = instructed_model.generate_content(post, request_options=retry_policy)\n",
    "    rc = response.candidates[0]\n",
    "\n",
    "    # Any errors, filters, recitation, etc we can mark as a general error\n",
    "    if rc.finish_reason.name != \"STOP\":\n",
    "        return \"(error)\"\n",
    "    else:\n",
    "        # Clean up the response.\n",
    "        return response.text.strip()\n",
    "\n",
    "\n",
    "prediction = predict_label(sample_row)\n",
    "\n",
    "print(prediction)\n",
    "print()\n",
    "print(\"Correct!\" if prediction == sample_label else \"Incorrect.\")"
   ]
  },
  {
   "cell_type": "markdown",
   "metadata": {},
   "source": [
    "Now run a short evaluation using the function defined above. The test set is further sampled to ensure the experiment runs smoothly on the API's free tier. In practice you would evaluate over the whole set."
   ]
  },
  {
   "cell_type": "code",
   "execution_count": 15,
   "metadata": {
    "execution": {
     "iopub.execute_input": "2025-02-15T23:58:19.890940Z",
     "iopub.status.busy": "2025-02-15T23:58:19.890667Z",
     "iopub.status.idle": "2025-02-15T23:59:38.903661Z",
     "shell.execute_reply": "2025-02-15T23:59:38.902636Z",
     "shell.execute_reply.started": "2025-02-15T23:58:19.890913Z"
    },
    "trusted": true
   },
   "outputs": [
    {
     "data": {
      "application/vnd.jupyter.widget-view+json": {
       "model_id": "d15574243729457186bdd0588a55741c",
       "version_major": 2,
       "version_minor": 0
      },
      "text/plain": [
       "Output()"
      ]
     },
     "metadata": {},
     "output_type": "display_data"
    },
    {
     "name": "stderr",
     "output_type": "stream",
     "text": [
      "/opt/conda/lib/python3.10/site-packages/tqdm/std.py:885: TqdmExperimentalWarning: rich is experimental/alpha\n",
      "  t = cls(total=total, **tqdm_kwargs)\n"
     ]
    },
    {
     "data": {
      "text/html": [
       "<pre style=\"white-space:pre;overflow-x:auto;line-height:normal;font-family:Menlo,'DejaVu Sans Mono',consolas,'Courier New',monospace\"></pre>\n"
      ],
      "text/plain": []
     },
     "metadata": {},
     "output_type": "display_data"
    },
    {
     "data": {
      "text/html": [
       "<pre style=\"white-space:pre;overflow-x:auto;line-height:normal;font-family:Menlo,'DejaVu Sans Mono',consolas,'Courier New',monospace\">\n",
       "</pre>\n"
      ],
      "text/plain": [
       "\n"
      ]
     },
     "metadata": {},
     "output_type": "display_data"
    },
    {
     "name": "stdout",
     "output_type": "stream",
     "text": [
      "Accuracy: 31.25%\n"
     ]
    }
   ],
   "source": [
    "from tqdm.rich import tqdm\n",
    "\n",
    "tqdm.pandas()\n",
    "\n",
    "\n",
    "# Further sample the test data to be mindful of the free-tier quota.\n",
    "df_baseline_eval = sample_data(df_test, 2, '.*')\n",
    "\n",
    "# Make predictions using the sampled data.\n",
    "df_baseline_eval['Prediction'] = df_baseline_eval['Text'].progress_apply(predict_label)\n",
    "\n",
    "# And calculate the accuracy.\n",
    "accuracy = (df_baseline_eval[\"Class Name\"] == df_baseline_eval[\"Prediction\"]).sum() / len(df_baseline_eval)\n",
    "print(f\"Accuracy: {accuracy:.2%}\")"
   ]
  },
  {
   "cell_type": "markdown",
   "metadata": {},
   "source": [
    "Now take a look at the dataframe to compare the predictions with the labels."
   ]
  },
  {
   "cell_type": "code",
   "execution_count": 16,
   "metadata": {
    "execution": {
     "iopub.execute_input": "2025-02-15T23:59:38.905344Z",
     "iopub.status.busy": "2025-02-15T23:59:38.904991Z",
     "iopub.status.idle": "2025-02-15T23:59:38.917650Z",
     "shell.execute_reply": "2025-02-15T23:59:38.916520Z",
     "shell.execute_reply.started": "2025-02-15T23:59:38.905313Z"
    },
    "trusted": true
   },
   "outputs": [
    {
     "data": {
      "text/html": [
       "<div>\n",
       "<style scoped>\n",
       "    .dataframe tbody tr th:only-of-type {\n",
       "        vertical-align: middle;\n",
       "    }\n",
       "\n",
       "    .dataframe tbody tr th {\n",
       "        vertical-align: top;\n",
       "    }\n",
       "\n",
       "    .dataframe thead th {\n",
       "        text-align: right;\n",
       "    }\n",
       "</style>\n",
       "<table border=\"1\" class=\"dataframe\">\n",
       "  <thead>\n",
       "    <tr style=\"text-align: right;\">\n",
       "      <th></th>\n",
       "      <th>Text</th>\n",
       "      <th>Label</th>\n",
       "      <th>Class Name</th>\n",
       "      <th>Prediction</th>\n",
       "    </tr>\n",
       "  </thead>\n",
       "  <tbody>\n",
       "    <tr>\n",
       "      <th>0</th>\n",
       "      <td>Re: New Anti-Carjacking Campaign\\n\\nIn article...</td>\n",
       "      <td>7</td>\n",
       "      <td>rec.autos</td>\n",
       "      <td>alt.politics.usa</td>\n",
       "    </tr>\n",
       "    <tr>\n",
       "      <th>1</th>\n",
       "      <td>Re: The 1994 Mustang\\n\\nIn article &lt;&gt;,  (Jeffr...</td>\n",
       "      <td>7</td>\n",
       "      <td>rec.autos</td>\n",
       "      <td>rec.autos.sports.cars</td>\n",
       "    </tr>\n",
       "    <tr>\n",
       "      <th>2</th>\n",
       "      <td>Re: Tracing license plates of BDI cagers?\\n\\n ...</td>\n",
       "      <td>8</td>\n",
       "      <td>rec.motorcycles</td>\n",
       "      <td>rec.motorcycles</td>\n",
       "    </tr>\n",
       "    <tr>\n",
       "      <th>3</th>\n",
       "      <td>Re: I NEED YOUR ADVICE! (I'm a new rider)\\n\\nI...</td>\n",
       "      <td>8</td>\n",
       "      <td>rec.motorcycles</td>\n",
       "      <td>rec.motorcycles</td>\n",
       "    </tr>\n",
       "    <tr>\n",
       "      <th>4</th>\n",
       "      <td>RE: Game Length (was Re: Braves Update!!\\n\\nIn...</td>\n",
       "      <td>9</td>\n",
       "      <td>rec.sport.baseball</td>\n",
       "      <td>rec.sports.baseball</td>\n",
       "    </tr>\n",
       "    <tr>\n",
       "      <th>5</th>\n",
       "      <td>Re: HBP? BB? BIG-CAT?\\n\\nIn Article: 106628 of...</td>\n",
       "      <td>9</td>\n",
       "      <td>rec.sport.baseball</td>\n",
       "      <td>rec.sport.baseball</td>\n",
       "    </tr>\n",
       "    <tr>\n",
       "      <th>6</th>\n",
       "      <td>Re: Wash/Isl OT game\\n\\nIn article &lt;&gt;  (Geoff ...</td>\n",
       "      <td>10</td>\n",
       "      <td>rec.sport.hockey</td>\n",
       "      <td>rec.sport.hockey</td>\n",
       "    </tr>\n",
       "    <tr>\n",
       "      <th>7</th>\n",
       "      <td>Re: Ulf crushes Valeri Zelepukin\\n\\nIn article...</td>\n",
       "      <td>10</td>\n",
       "      <td>rec.sport.hockey</td>\n",
       "      <td>rec.sports.hockey</td>\n",
       "    </tr>\n",
       "    <tr>\n",
       "      <th>8</th>\n",
       "      <td>Re: Clipper chip\\n\\nIn article &lt;&gt;,  writes:\\n|...</td>\n",
       "      <td>11</td>\n",
       "      <td>sci.crypt</td>\n",
       "      <td>(error)</td>\n",
       "    </tr>\n",
       "    <tr>\n",
       "      <th>9</th>\n",
       "      <td>One-time pad authentication?\\n\\n   I can think...</td>\n",
       "      <td>11</td>\n",
       "      <td>sci.crypt</td>\n",
       "      <td>sci.crypt</td>\n",
       "    </tr>\n",
       "    <tr>\n",
       "      <th>10</th>\n",
       "      <td>Re: Blue LED's\\n\\n{Gladman Aviv} said\\n   \"Re:...</td>\n",
       "      <td>12</td>\n",
       "      <td>sci.electronics</td>\n",
       "      <td>comp.electronics.misc</td>\n",
       "    </tr>\n",
       "    <tr>\n",
       "      <th>11</th>\n",
       "      <td>VGA circuit\\n\\nI've come across a circuit from...</td>\n",
       "      <td>12</td>\n",
       "      <td>sci.electronics</td>\n",
       "      <td>comp.sys.amiga</td>\n",
       "    </tr>\n",
       "    <tr>\n",
       "      <th>12</th>\n",
       "      <td>Legality of placebos?\\n\\n\\n\\nHow is it that pl...</td>\n",
       "      <td>13</td>\n",
       "      <td>sci.med</td>\n",
       "      <td>alt.med.homeopathy</td>\n",
       "    </tr>\n",
       "    <tr>\n",
       "      <th>13</th>\n",
       "      <td>A Good place for Back Surgery?\\n\\n\\n\\t\\n      ...</td>\n",
       "      <td>13</td>\n",
       "      <td>sci.med</td>\n",
       "      <td>misc.health.medical</td>\n",
       "    </tr>\n",
       "    <tr>\n",
       "      <th>14</th>\n",
       "      <td>Re: Why we like DC-X (was Re: Shuttle 0-Defect...</td>\n",
       "      <td>14</td>\n",
       "      <td>sci.space</td>\n",
       "      <td>misc.space</td>\n",
       "    </tr>\n",
       "    <tr>\n",
       "      <th>15</th>\n",
       "      <td>New inexpensive method for determining ore &amp; o...</td>\n",
       "      <td>14</td>\n",
       "      <td>sci.space</td>\n",
       "      <td>misc.invest</td>\n",
       "    </tr>\n",
       "  </tbody>\n",
       "</table>\n",
       "</div>"
      ],
      "text/plain": [
       "                                                 Text  Label  \\\n",
       "0   Re: New Anti-Carjacking Campaign\\n\\nIn article...      7   \n",
       "1   Re: The 1994 Mustang\\n\\nIn article <>,  (Jeffr...      7   \n",
       "2   Re: Tracing license plates of BDI cagers?\\n\\n ...      8   \n",
       "3   Re: I NEED YOUR ADVICE! (I'm a new rider)\\n\\nI...      8   \n",
       "4   RE: Game Length (was Re: Braves Update!!\\n\\nIn...      9   \n",
       "5   Re: HBP? BB? BIG-CAT?\\n\\nIn Article: 106628 of...      9   \n",
       "6   Re: Wash/Isl OT game\\n\\nIn article <>  (Geoff ...     10   \n",
       "7   Re: Ulf crushes Valeri Zelepukin\\n\\nIn article...     10   \n",
       "8   Re: Clipper chip\\n\\nIn article <>,  writes:\\n|...     11   \n",
       "9   One-time pad authentication?\\n\\n   I can think...     11   \n",
       "10  Re: Blue LED's\\n\\n{Gladman Aviv} said\\n   \"Re:...     12   \n",
       "11  VGA circuit\\n\\nI've come across a circuit from...     12   \n",
       "12  Legality of placebos?\\n\\n\\n\\nHow is it that pl...     13   \n",
       "13  A Good place for Back Surgery?\\n\\n\\n\\t\\n      ...     13   \n",
       "14  Re: Why we like DC-X (was Re: Shuttle 0-Defect...     14   \n",
       "15  New inexpensive method for determining ore & o...     14   \n",
       "\n",
       "            Class Name             Prediction  \n",
       "0            rec.autos       alt.politics.usa  \n",
       "1            rec.autos  rec.autos.sports.cars  \n",
       "2      rec.motorcycles        rec.motorcycles  \n",
       "3      rec.motorcycles        rec.motorcycles  \n",
       "4   rec.sport.baseball    rec.sports.baseball  \n",
       "5   rec.sport.baseball     rec.sport.baseball  \n",
       "6     rec.sport.hockey       rec.sport.hockey  \n",
       "7     rec.sport.hockey      rec.sports.hockey  \n",
       "8            sci.crypt                (error)  \n",
       "9            sci.crypt              sci.crypt  \n",
       "10     sci.electronics  comp.electronics.misc  \n",
       "11     sci.electronics         comp.sys.amiga  \n",
       "12             sci.med     alt.med.homeopathy  \n",
       "13             sci.med    misc.health.medical  \n",
       "14           sci.space             misc.space  \n",
       "15           sci.space            misc.invest  "
      ]
     },
     "execution_count": 16,
     "metadata": {},
     "output_type": "execute_result"
    }
   ],
   "source": [
    "df_baseline_eval"
   ]
  },
  {
   "cell_type": "markdown",
   "metadata": {
    "id": "Ok7ugrLzcghX"
   },
   "source": [
    "## Tune a custom model\n",
    "\n",
    "In this example you'll use tuning to help create a model that requires no prompting or system instructions and outputs succinct text from the classes you provide in the training data.\n",
    "\n",
    "The data contains both input text (the processed posts) and output text (the category, or newsgroup), which you can use to start tuning a model.\n",
    "\n",
    "The Python SDK for tuning supports Pandas dataframes as input, so you don't need any custom data generators or pipelines. Just specify the input and the relevant columns as the `input_key` and `output_key`.\n",
    "\n",
    "When calling `create_tuned_model`, you can specify model tuning hyperparameters too:\n",
    " - `epoch_count`: defines how many times to loop through the data,\n",
    " - `batch_size`: defines how many rows to process in a single step, and\n",
    " - `learning_rate`: defines the scaling factor for updating model weights at each step.\n",
    "\n",
    "You can also choose to omit them and use the defaults. [Learn more](https://developers.google.com/machine-learning/crash-course/linear-regression/hyperparameters) about these parameters and how they work. For this example these parameters were selected by running some tuning jobs and selecting parameters that were both effective and quick."
   ]
  },
  {
   "cell_type": "code",
   "execution_count": 17,
   "metadata": {
    "execution": {
     "iopub.execute_input": "2025-02-15T23:59:38.919282Z",
     "iopub.status.busy": "2025-02-15T23:59:38.918936Z",
     "iopub.status.idle": "2025-02-15T23:59:41.178666Z",
     "shell.execute_reply": "2025-02-15T23:59:41.177617Z",
     "shell.execute_reply.started": "2025-02-15T23:59:38.919253Z"
    },
    "id": "pWOZlspfY8dV",
    "trusted": true
   },
   "outputs": [
    {
     "name": "stdout",
     "output_type": "stream",
     "text": [
      "newsgroup-classifier-36420\n"
     ]
    }
   ],
   "source": [
    "from collections.abc import Iterable\n",
    "import random\n",
    "\n",
    "\n",
    "# Append a random number to the model ID so you can re-run with a higher chance\n",
    "# of creating a unique model ID.\n",
    "model_id = f\"newsgroup-classifier-{random.randint(10000, 99999)}\"\n",
    "\n",
    "# Upload the training data and queue the tuning job.\n",
    "tuning_op = genai.create_tuned_model(\n",
    "    \"models/gemini-1.5-flash-001-tuning\",\n",
    "    training_data=df_train,\n",
    "    input_key=\"Text\",  # the column to use as input\n",
    "    output_key=\"Class Name\",  # the column to use as output\n",
    "    id=model_id,\n",
    "    display_name=\"Newsgroup classification model\",\n",
    "    batch_size=16,\n",
    "    epoch_count=2,\n",
    ")\n",
    "\n",
    "print(model_id)"
   ]
  },
  {
   "cell_type": "markdown",
   "metadata": {
    "id": "NQ3YZ2MBubCY"
   },
   "source": [
    "This has created a tuning job that will run in the background. To inspect the progress of the tuning job, run this cell to plot the current status and loss curve. Once the status reaches `ACTIVE`, tuning is complete and the model is ready to use.\n",
    "\n",
    "Tuning jobs are queued, so it may look like no training steps have been taken initially but it will progress. Tuning can take upwards of 20 minutes, depending on factors like your dataset size and how busy the tuning infrastrature is. Why not treat yourself to a nice cup of tea while you wait, or come and say \"Hi!\" to [yours truly](https://discord.com/users/132124213132787712) in the group [Discord](https://discord.com/invite/kaggle).\n",
    "\n",
    "It is safe to stop this cell at any point. It will not stop the tuning job."
   ]
  },
  {
   "cell_type": "code",
   "execution_count": 18,
   "metadata": {
    "execution": {
     "iopub.execute_input": "2025-02-15T23:59:41.180327Z",
     "iopub.status.busy": "2025-02-15T23:59:41.180007Z",
     "iopub.status.idle": "2025-02-16T00:04:44.662272Z",
     "shell.execute_reply": "2025-02-16T00:04:44.661289Z",
     "shell.execute_reply.started": "2025-02-15T23:59:41.180298Z"
    },
    "id": "c4ef5f13692d",
    "trusted": true
   },
   "outputs": [
    {
     "name": "stdout",
     "output_type": "stream",
     "text": [
      "State.CREATING\n",
      "State.CREATING\n",
      "State.CREATING\n",
      "State.CREATING\n",
      "State.CREATING\n",
      "Done! The model is ACTIVE\n"
     ]
    },
    {
     "name": "stderr",
     "output_type": "stream",
     "text": [
      "/opt/conda/lib/python3.10/site-packages/seaborn/_oldcore.py:1119: FutureWarning: use_inf_as_na option is deprecated and will be removed in a future version. Convert inf values to NaN before operating instead.\n",
      "  with pd.option_context('mode.use_inf_as_na', True):\n",
      "/opt/conda/lib/python3.10/site-packages/seaborn/_oldcore.py:1119: FutureWarning: use_inf_as_na option is deprecated and will be removed in a future version. Convert inf values to NaN before operating instead.\n",
      "  with pd.option_context('mode.use_inf_as_na', True):\n"
     ]
    },
    {
     "data": {
      "text/plain": [
       "<Axes: xlabel='step', ylabel='mean_loss'>"
      ]
     },
     "execution_count": 18,
     "metadata": {},
     "output_type": "execute_result"
    },
    {
     "data": {
      "image/png": "[encoded data removed]",
      "text/plain": [
       "<Figure size 640x480 with 1 Axes>"
      ]
     },
     "metadata": {},
     "output_type": "display_data"
    }
   ],
   "source": [
    "import time\n",
    "import seaborn as sns\n",
    "\n",
    "\n",
    "while (tuned_model := genai.get_tuned_model(f\"tunedModels/{model_id}\")).state.name != 'ACTIVE':\n",
    "\n",
    "    print(tuned_model.state)\n",
    "    time.sleep(60)\n",
    "\n",
    "print(f\"Done! The model is {tuned_model.state.name}\")\n",
    "\n",
    "# Plot the loss curve.\n",
    "snapshots = pd.DataFrame(tuned_model.tuning_task.snapshots)\n",
    "sns.lineplot(data=snapshots, x=\"step\", y=\"mean_loss\")\n"
   ]
  },
  {
   "cell_type": "markdown",
   "metadata": {
    "id": "9-qiIdK4u80z"
   },
   "source": [
    "Note that the `seaborn` module may output warnings containing `FutureWarning: use_inf_as_na option is deprecated`. These are expected and can be ignored."
   ]
  },
  {
   "cell_type": "markdown",
   "metadata": {
    "id": "9-qiIdK4u80z"
   },
   "source": [
    "## Use the new model\n",
    "\n",
    "Now that you have a tuned model, try it out with custom data. You use the same API as a normal Gemini API interaction, but you specify your new model as the model name, using the `tunedModels/` prefix."
   ]
  },
  {
   "cell_type": "code",
   "execution_count": 19,
   "metadata": {
    "execution": {
     "iopub.execute_input": "2025-02-16T00:04:44.664981Z",
     "iopub.status.busy": "2025-02-16T00:04:44.664283Z",
     "iopub.status.idle": "2025-02-16T00:04:46.673939Z",
     "shell.execute_reply": "2025-02-16T00:04:46.672861Z",
     "shell.execute_reply.started": "2025-02-16T00:04:44.664933Z"
    },
    "id": "hyO2-MXLvM6a",
    "trusted": true
   },
   "outputs": [
    {
     "name": "stdout",
     "output_type": "stream",
     "text": [
      "sci.space\n"
     ]
    }
   ],
   "source": [
    "your_model = genai.GenerativeModel(f\"tunedModels/{model_id}\")\n",
    "\n",
    "new_text = \"\"\"\n",
    "First-timer looking to get out of here.\n",
    "\n",
    "Hi, I'm writing about my interest in travelling to the outer limits!\n",
    "\n",
    "What kind of craft can I buy? What is easiest to access from this 3rd rock?\n",
    "\n",
    "Let me know how to do that please.\n",
    "\"\"\"\n",
    "\n",
    "response = your_model.generate_content(new_text)\n",
    "print(response.text)"
   ]
  },
  {
   "cell_type": "markdown",
   "metadata": {
    "id": "xajLek9DySH_"
   },
   "source": [
    "### Evaluation\n",
    "\n",
    "You can see that the model outputs labels that correspond to those in the training data, and without any system instructions or prompting, which is already a great improvement. Now see how well it performs on the test set.\n",
    "\n",
    "Note that there is no parallelism in this example; classifying the test sub-set will take a few minutes."
   ]
  },
  {
   "cell_type": "code",
   "execution_count": 20,
   "metadata": {
    "execution": {
     "iopub.execute_input": "2025-02-16T00:04:46.675285Z",
     "iopub.status.busy": "2025-02-16T00:04:46.675009Z",
     "iopub.status.idle": "2025-02-16T00:06:53.032026Z",
     "shell.execute_reply": "2025-02-16T00:06:53.030993Z",
     "shell.execute_reply.started": "2025-02-16T00:04:46.675257Z"
    },
    "id": "6T2Y3ZApvbMw",
    "trusted": true
   },
   "outputs": [
    {
     "data": {
      "application/vnd.jupyter.widget-view+json": {
       "model_id": "f8558db2c0ea42d6a5179245be926f66",
       "version_major": 2,
       "version_minor": 0
      },
      "text/plain": [
       "Output()"
      ]
     },
     "metadata": {},
     "output_type": "display_data"
    },
    {
     "name": "stderr",
     "output_type": "stream",
     "text": [
      "/opt/conda/lib/python3.10/site-packages/tqdm/std.py:885: TqdmExperimentalWarning: rich is experimental/alpha\n",
      "  t = cls(total=total, **tqdm_kwargs)\n"
     ]
    },
    {
     "data": {
      "text/html": [
       "<pre style=\"white-space:pre;overflow-x:auto;line-height:normal;font-family:Menlo,'DejaVu Sans Mono',consolas,'Courier New',monospace\"></pre>\n"
      ],
      "text/plain": []
     },
     "metadata": {},
     "output_type": "display_data"
    },
    {
     "data": {
      "text/html": [
       "<pre style=\"white-space:pre;overflow-x:auto;line-height:normal;font-family:Menlo,'DejaVu Sans Mono',consolas,'Courier New',monospace\">\n",
       "</pre>\n"
      ],
      "text/plain": [
       "\n"
      ]
     },
     "metadata": {},
     "output_type": "display_data"
    },
    {
     "name": "stdout",
     "output_type": "stream",
     "text": [
      "Accuracy: 84.38%\n"
     ]
    }
   ],
   "source": [
    "def classify_text(text: str) -> str:\n",
    "    \"\"\"Classify the provided text into a known newsgroup.\"\"\"\n",
    "    response = your_model.generate_content(text, request_options=retry_policy)\n",
    "    rc = response.candidates[0]\n",
    "\n",
    "    # Any errors, filters, recitation, etc we can mark as a general error\n",
    "    if rc.finish_reason.name != \"STOP\":\n",
    "        return \"(error)\"\n",
    "    else:\n",
    "        return rc.content.parts[0].text\n",
    "\n",
    "\n",
    "# The sampling here is just to minimise your quota usage. If you can, you should\n",
    "# evaluate the whole test set with `df_model_eval = df_test.copy()`.\n",
    "df_model_eval = sample_data(df_test, 4, '.*')\n",
    "\n",
    "\n",
    "df_model_eval[\"Prediction\"] = df_model_eval[\"Text\"].progress_apply(classify_text)\n",
    "\n",
    "accuracy = (df_model_eval[\"Class Name\"] == df_model_eval[\"Prediction\"]).sum() / len(df_model_eval)\n",
    "print(f\"Accuracy: {accuracy:.2%}\")"
   ]
  },
  {
   "cell_type": "markdown",
   "metadata": {},
   "source": [
    "## Compare token usage\n",
    "\n",
    "AI Studio and the Gemini API provide model tuning at no cost, however normal limits and charges apply for *use* of a tuned model.\n",
    "\n",
    "The size of the input prompt and other generation config like system instructions, as well as the number of generated output tokens, all contribute to the overall cost of a request."
   ]
  },
  {
   "cell_type": "code",
   "execution_count": 21,
   "metadata": {
    "execution": {
     "iopub.execute_input": "2025-02-16T00:06:53.034295Z",
     "iopub.status.busy": "2025-02-16T00:06:53.033557Z",
     "iopub.status.idle": "2025-02-16T00:06:53.325889Z",
     "shell.execute_reply": "2025-02-16T00:06:53.324913Z",
     "shell.execute_reply.started": "2025-02-16T00:06:53.034247Z"
    },
    "trusted": true
   },
   "outputs": [
    {
     "name": "stdout",
     "output_type": "stream",
     "text": [
      "System instructed baseline model: 171 (input)\n",
      "Tuned model: 135 (input)\n",
      "Token savings: 26.67%\n"
     ]
    }
   ],
   "source": [
    "# Calculate the *input* cost of the baseline model with system instructions.\n",
    "sysint_tokens = instructed_model.count_tokens(sample_row).total_tokens\n",
    "print(f'System instructed baseline model: {sysint_tokens} (input)')\n",
    "\n",
    "# Calculate the input cost of the tuned model.\n",
    "tuned_tokens = your_model.count_tokens(sample_row).total_tokens\n",
    "print(f'Tuned model: {tuned_tokens} (input)')\n",
    "\n",
    "savings = (sysint_tokens - tuned_tokens) / tuned_tokens\n",
    "print(f'Token savings: {savings:.2%}')  # Note that this is only n=1."
   ]
  },
  {
   "cell_type": "markdown",
   "metadata": {},
   "source": [
    "The earlier verbose model also produced more output tokens than needed for this task."
   ]
  },
  {
   "cell_type": "code",
   "execution_count": 22,
   "metadata": {
    "execution": {
     "iopub.execute_input": "2025-02-16T00:06:53.331125Z",
     "iopub.status.busy": "2025-02-16T00:06:53.330817Z",
     "iopub.status.idle": "2025-02-16T00:06:54.066987Z",
     "shell.execute_reply": "2025-02-16T00:06:54.065875Z",
     "shell.execute_reply.started": "2025-02-16T00:06:53.331094Z"
    },
    "trusted": true
   },
   "outputs": [
    {
     "name": "stdout",
     "output_type": "stream",
     "text": [
      "Baseline (verbose) output tokens: 220\n",
      "Tuned output tokens: 4\n"
     ]
    }
   ],
   "source": [
    "baseline_token_output = baseline_response.usage_metadata.candidates_token_count\n",
    "print('Baseline (verbose) output tokens:', baseline_token_output)\n",
    "\n",
    "tuned_model_output = your_model.generate_content(sample_row)\n",
    "tuned_tokens_output = tuned_model_output.usage_metadata.candidates_token_count\n",
    "print('Tuned output tokens:', tuned_tokens_output)"
   ]
  },
  {
   "cell_type": "markdown",
   "metadata": {
    "id": "6c1204a5d0ab"
   },
   "source": [
    "## Next steps\n",
    "\n",
    "Now that you have tuned a classification model, try some other tasks, like tuning a model to respond with a specific tone or style using hand-written examples (or even generated examples!). Kaggle hosts [a number of datasets](https://www.kaggle.com/datasets) you can try out.\n",
    "\n",
    "Learn about [when supervised fine-tuning is most effective](https://cloud.google.com/blog/products/ai-machine-learning/supervised-fine-tuning-for-gemini-llm).\n",
    "\n",
    "And check out the [fine-tuning tutorial](https://ai.google.dev/gemini-api/docs/model-tuning/tutorial?hl=en&lang=python) for another example that shows a tuned model extending beyond the training data to new, unseen inputs."
   ]
  }
 ],
 "metadata": {
  "colab": {
   "name": "day-4-fine-tuning-a-custom-model.ipynb",
   "toc_visible": true
  },
  "kaggle": {
   "accelerator": "none",
   "dataSources": [],
   "dockerImageVersionId": 30786,
   "isGpuEnabled": false,
   "isInternetEnabled": true,
   "language": "python",
   "sourceType": "notebook"
  },
  "kernelspec": {
   "display_name": "Python 3",
   "language": "python",
   "name": "python3"
  },
  "language_info": {
   "codemirror_mode": {
    "name": "ipython",
    "version": 3
   },
   "file_extension": ".py",
   "mimetype": "text/x-python",
   "name": "python",
   "nbconvert_exporter": "python",
   "pygments_lexer": "ipython3",
   "version": "3.10.14"
  }
 },
 "nbformat": 4,
 "nbformat_minor": 4
}
